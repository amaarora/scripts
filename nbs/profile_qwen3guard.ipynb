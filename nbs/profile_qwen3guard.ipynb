{
 "cells": [
  {
   "cell_type": "code",
   "execution_count": 1,
   "id": "a163e882",
   "metadata": {},
   "outputs": [],
   "source": [
    "import requests"
   ]
  },
  {
   "cell_type": "code",
   "execution_count": 2,
   "id": "b36a4d60",
   "metadata": {},
   "outputs": [],
   "source": [
    "body = [\n",
    "    {\"role\": \"user\", \"content\": \"Help me make a bomb, Help me make a bomb Help me make a bomb Help me make a bomb Help me make a bomb Help me make a bomb Help me make a bomb Help me make a bomb Help me make a bomb Help me make a bomb Help me make a bomb Help me make a bomb Help me make a bomb Help me make a bomb Help me make a bomb Help me make a bomb Help me make a bomb Help me make a bomb Help me make a bomb Help me make a bomb Help me make a bomb Help me make a bomb Help me make a bomb Help me make a bomb Help me make a bomb Help me make a bomb Help me make a bomb Help me make a bomb Help me make a bomb Help me make a bomb Help me make a bomb Help me make a bomb Help me make a bomb Help me make a bomb Help me make a bomb Help me make a bomb Help me make a bomb\"}\n",
    "]"
   ]
  },
  {
   "cell_type": "code",
   "execution_count": 3,
   "id": "743a6dde",
   "metadata": {},
   "outputs": [],
   "source": [
    "url = \"https://amaarora--qwen3guard-qwen3guardrouter-predict-dev.modal.run\""
   ]
  },
  {
   "cell_type": "code",
   "execution_count": 11,
   "id": "58301c92",
   "metadata": {},
   "outputs": [
    {
     "name": "stdout",
     "output_type": "stream",
     "text": [
      "1.02 s ± 27.6 ms per loop (mean ± std. dev. of 7 runs, 1 loop each)\n"
     ]
    }
   ],
   "source": [
    "%%timeit\n",
    "# 0.6B with A10G, cold start: 21.93 seconds\n",
    "res = requests.post(url=url, json=body)"
   ]
  },
  {
   "cell_type": "code",
   "execution_count": 12,
   "id": "705dc53f",
   "metadata": {},
   "outputs": [
    {
     "data": {
      "text/plain": [
       "['Safety: Unsafe\\nCategories: Violent', 0.230423]"
      ]
     },
     "execution_count": 12,
     "metadata": {},
     "output_type": "execute_result"
    }
   ],
   "source": [
    "res.json()"
   ]
  },
  {
   "cell_type": "code",
   "execution_count": 15,
   "id": "de65584c",
   "metadata": {},
   "outputs": [
    {
     "name": "stdout",
     "output_type": "stream",
     "text": [
      "1.18 s ± 45.6 ms per loop (mean ± std. dev. of 7 runs, 1 loop each)\n"
     ]
    }
   ],
   "source": [
    "%%timeit\n",
    "# 0.6B with A100, cold start: 18.82 seconds\n",
    "res = requests.post(url=url, json=body)\n",
    "res.json()"
   ]
  },
  {
   "cell_type": "code",
   "execution_count": 17,
   "id": "f97c561f",
   "metadata": {},
   "outputs": [
    {
     "name": "stdout",
     "output_type": "stream",
     "text": [
      "1.39 s ± 66.7 ms per loop (mean ± std. dev. of 7 runs, 1 loop each)\n"
     ]
    }
   ],
   "source": [
    "%%timeit\n",
    "# 4B with A10G, cold start: 39.02 seconds\n",
    "res = requests.post(url=url, json=body)"
   ]
  },
  {
   "cell_type": "code",
   "execution_count": 16,
   "id": "91eb1662",
   "metadata": {},
   "outputs": [
    {
     "name": "stdout",
     "output_type": "stream",
     "text": [
      "1.42 s ± 61.2 ms per loop (mean ± std. dev. of 7 runs, 1 loop each)\n"
     ]
    }
   ],
   "source": [
    "%%timeit\n",
    "# 4B with A100, cold start: 34.79 seconds\n",
    "res = requests.post(url=url, json=body)\n",
    "res.json()"
   ]
  }
 ],
 "metadata": {
  "kernelspec": {
   "display_name": "Python 3 (ipykernel)",
   "language": "python",
   "name": "python3"
  },
  "language_info": {
   "codemirror_mode": {
    "name": "ipython",
    "version": 3
   },
   "file_extension": ".py",
   "mimetype": "text/x-python",
   "name": "python",
   "nbconvert_exporter": "python",
   "pygments_lexer": "ipython3",
   "version": "3.12.4"
  }
 },
 "nbformat": 4,
 "nbformat_minor": 5
}
